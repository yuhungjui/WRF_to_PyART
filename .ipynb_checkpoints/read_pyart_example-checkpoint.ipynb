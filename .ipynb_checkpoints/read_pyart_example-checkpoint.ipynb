{
 "cells": [
  {
   "cell_type": "code",
   "execution_count": 1,
   "metadata": {},
   "outputs": [
    {
     "name": "stdout",
     "output_type": "stream",
     "text": [
      "Once deleted, variables cannot be recovered. Proceed (y/[n])? y\n"
     ]
    }
   ],
   "source": [
    "%reset"
   ]
  },
  {
   "cell_type": "markdown",
   "metadata": {},
   "source": [
    "Read example Pyart grid object for test."
   ]
  },
  {
   "cell_type": "code",
   "execution_count": 2,
   "metadata": {},
   "outputs": [
    {
     "name": "stdout",
     "output_type": "stream",
     "text": [
      "\n",
      "## You are using the Python ARM Radar Toolkit (Py-ART), an open source\n",
      "## library for working with weather radar data. Py-ART is partly\n",
      "## supported by the U.S. Department of Energy as part of the Atmospheric\n",
      "## Radiation Measurement (ARM) Climate Research Facility, an Office of\n",
      "## Science user facility.\n",
      "##\n",
      "## If you use this software to prepare a publication, please cite:\n",
      "##\n",
      "##     JJ Helmus and SM Collis, JORS 2016, doi: 10.5334/jors.119\n",
      "\n"
     ]
    },
    {
     "name": "stderr",
     "output_type": "stream",
     "text": [
      "/usr/local/anaconda3/lib/python3.8/site-packages/wrf/constants.py:19: DeprecationWarning: np.asscalar(a) is deprecated since NumPy v1.16, use a.item() instead\n",
      "  setattr(Constants, key.upper(), np.asscalar(val))\n",
      "/usr/local/anaconda3/lib/python3.8/site-packages/wrf/constants.py:19: DeprecationWarning: np.asscalar(a) is deprecated since NumPy v1.16, use a.item() instead\n",
      "  setattr(Constants, key.upper(), np.asscalar(val))\n",
      "/usr/local/anaconda3/lib/python3.8/site-packages/wrf/constants.py:19: DeprecationWarning: np.asscalar(a) is deprecated since NumPy v1.16, use a.item() instead\n",
      "  setattr(Constants, key.upper(), np.asscalar(val))\n",
      "/usr/local/anaconda3/lib/python3.8/site-packages/wrf/constants.py:19: DeprecationWarning: np.asscalar(a) is deprecated since NumPy v1.16, use a.item() instead\n",
      "  setattr(Constants, key.upper(), np.asscalar(val))\n",
      "/usr/local/anaconda3/lib/python3.8/site-packages/wrf/constants.py:19: DeprecationWarning: np.asscalar(a) is deprecated since NumPy v1.16, use a.item() instead\n",
      "  setattr(Constants, key.upper(), np.asscalar(val))\n",
      "/usr/local/anaconda3/lib/python3.8/site-packages/wrf/constants.py:19: DeprecationWarning: np.asscalar(a) is deprecated since NumPy v1.16, use a.item() instead\n",
      "  setattr(Constants, key.upper(), np.asscalar(val))\n",
      "/usr/local/anaconda3/lib/python3.8/site-packages/wrf/constants.py:19: DeprecationWarning: np.asscalar(a) is deprecated since NumPy v1.16, use a.item() instead\n",
      "  setattr(Constants, key.upper(), np.asscalar(val))\n",
      "/usr/local/anaconda3/lib/python3.8/site-packages/wrf/constants.py:19: DeprecationWarning: np.asscalar(a) is deprecated since NumPy v1.16, use a.item() instead\n",
      "  setattr(Constants, key.upper(), np.asscalar(val))\n",
      "/usr/local/anaconda3/lib/python3.8/site-packages/wrf/constants.py:19: DeprecationWarning: np.asscalar(a) is deprecated since NumPy v1.16, use a.item() instead\n",
      "  setattr(Constants, key.upper(), np.asscalar(val))\n",
      "/usr/local/anaconda3/lib/python3.8/site-packages/wrf/constants.py:19: DeprecationWarning: np.asscalar(a) is deprecated since NumPy v1.16, use a.item() instead\n",
      "  setattr(Constants, key.upper(), np.asscalar(val))\n",
      "/usr/local/anaconda3/lib/python3.8/site-packages/wrf/constants.py:19: DeprecationWarning: np.asscalar(a) is deprecated since NumPy v1.16, use a.item() instead\n",
      "  setattr(Constants, key.upper(), np.asscalar(val))\n",
      "/usr/local/anaconda3/lib/python3.8/site-packages/wrf/constants.py:19: DeprecationWarning: np.asscalar(a) is deprecated since NumPy v1.16, use a.item() instead\n",
      "  setattr(Constants, key.upper(), np.asscalar(val))\n",
      "/usr/local/anaconda3/lib/python3.8/site-packages/wrf/constants.py:19: DeprecationWarning: np.asscalar(a) is deprecated since NumPy v1.16, use a.item() instead\n",
      "  setattr(Constants, key.upper(), np.asscalar(val))\n",
      "/usr/local/anaconda3/lib/python3.8/site-packages/wrf/constants.py:19: DeprecationWarning: np.asscalar(a) is deprecated since NumPy v1.16, use a.item() instead\n",
      "  setattr(Constants, key.upper(), np.asscalar(val))\n",
      "/usr/local/anaconda3/lib/python3.8/site-packages/wrf/constants.py:19: DeprecationWarning: np.asscalar(a) is deprecated since NumPy v1.16, use a.item() instead\n",
      "  setattr(Constants, key.upper(), np.asscalar(val))\n",
      "/usr/local/anaconda3/lib/python3.8/site-packages/wrf/constants.py:19: DeprecationWarning: np.asscalar(a) is deprecated since NumPy v1.16, use a.item() instead\n",
      "  setattr(Constants, key.upper(), np.asscalar(val))\n",
      "/usr/local/anaconda3/lib/python3.8/site-packages/wrf/constants.py:19: DeprecationWarning: np.asscalar(a) is deprecated since NumPy v1.16, use a.item() instead\n",
      "  setattr(Constants, key.upper(), np.asscalar(val))\n",
      "/usr/local/anaconda3/lib/python3.8/site-packages/wrf/constants.py:19: DeprecationWarning: np.asscalar(a) is deprecated since NumPy v1.16, use a.item() instead\n",
      "  setattr(Constants, key.upper(), np.asscalar(val))\n",
      "/usr/local/anaconda3/lib/python3.8/site-packages/wrf/constants.py:19: DeprecationWarning: np.asscalar(a) is deprecated since NumPy v1.16, use a.item() instead\n",
      "  setattr(Constants, key.upper(), np.asscalar(val))\n",
      "/usr/local/anaconda3/lib/python3.8/site-packages/wrf/constants.py:19: DeprecationWarning: np.asscalar(a) is deprecated since NumPy v1.16, use a.item() instead\n",
      "  setattr(Constants, key.upper(), np.asscalar(val))\n",
      "/usr/local/anaconda3/lib/python3.8/site-packages/wrf/constants.py:19: DeprecationWarning: np.asscalar(a) is deprecated since NumPy v1.16, use a.item() instead\n",
      "  setattr(Constants, key.upper(), np.asscalar(val))\n",
      "/usr/local/anaconda3/lib/python3.8/site-packages/wrf/constants.py:19: DeprecationWarning: np.asscalar(a) is deprecated since NumPy v1.16, use a.item() instead\n",
      "  setattr(Constants, key.upper(), np.asscalar(val))\n",
      "/usr/local/anaconda3/lib/python3.8/site-packages/wrf/constants.py:19: DeprecationWarning: np.asscalar(a) is deprecated since NumPy v1.16, use a.item() instead\n",
      "  setattr(Constants, key.upper(), np.asscalar(val))\n",
      "/usr/local/anaconda3/lib/python3.8/site-packages/wrf/constants.py:19: DeprecationWarning: np.asscalar(a) is deprecated since NumPy v1.16, use a.item() instead\n",
      "  setattr(Constants, key.upper(), np.asscalar(val))\n",
      "/usr/local/anaconda3/lib/python3.8/site-packages/wrf/constants.py:19: DeprecationWarning: np.asscalar(a) is deprecated since NumPy v1.16, use a.item() instead\n",
      "  setattr(Constants, key.upper(), np.asscalar(val))\n",
      "/usr/local/anaconda3/lib/python3.8/site-packages/wrf/constants.py:19: DeprecationWarning: np.asscalar(a) is deprecated since NumPy v1.16, use a.item() instead\n",
      "  setattr(Constants, key.upper(), np.asscalar(val))\n",
      "/usr/local/anaconda3/lib/python3.8/site-packages/wrf/constants.py:19: DeprecationWarning: np.asscalar(a) is deprecated since NumPy v1.16, use a.item() instead\n",
      "  setattr(Constants, key.upper(), np.asscalar(val))\n",
      "/usr/local/anaconda3/lib/python3.8/site-packages/wrf/constants.py:19: DeprecationWarning: np.asscalar(a) is deprecated since NumPy v1.16, use a.item() instead\n",
      "  setattr(Constants, key.upper(), np.asscalar(val))\n",
      "/usr/local/anaconda3/lib/python3.8/site-packages/wrf/constants.py:19: DeprecationWarning: np.asscalar(a) is deprecated since NumPy v1.16, use a.item() instead\n",
      "  setattr(Constants, key.upper(), np.asscalar(val))\n",
      "/usr/local/anaconda3/lib/python3.8/site-packages/wrf/constants.py:19: DeprecationWarning: np.asscalar(a) is deprecated since NumPy v1.16, use a.item() instead\n",
      "  setattr(Constants, key.upper(), np.asscalar(val))\n",
      "/usr/local/anaconda3/lib/python3.8/site-packages/wrf/constants.py:19: DeprecationWarning: np.asscalar(a) is deprecated since NumPy v1.16, use a.item() instead\n",
      "  setattr(Constants, key.upper(), np.asscalar(val))\n",
      "/usr/local/anaconda3/lib/python3.8/site-packages/wrf/constants.py:19: DeprecationWarning: np.asscalar(a) is deprecated since NumPy v1.16, use a.item() instead\n",
      "  setattr(Constants, key.upper(), np.asscalar(val))\n",
      "/usr/local/anaconda3/lib/python3.8/site-packages/wrf/constants.py:19: DeprecationWarning: np.asscalar(a) is deprecated since NumPy v1.16, use a.item() instead\n",
      "  setattr(Constants, key.upper(), np.asscalar(val))\n",
      "/usr/local/anaconda3/lib/python3.8/site-packages/wrf/constants.py:19: DeprecationWarning: np.asscalar(a) is deprecated since NumPy v1.16, use a.item() instead\n",
      "  setattr(Constants, key.upper(), np.asscalar(val))\n",
      "/usr/local/anaconda3/lib/python3.8/site-packages/wrf/constants.py:19: DeprecationWarning: np.asscalar(a) is deprecated since NumPy v1.16, use a.item() instead\n",
      "  setattr(Constants, key.upper(), np.asscalar(val))\n",
      "/usr/local/anaconda3/lib/python3.8/site-packages/wrf/constants.py:19: DeprecationWarning: np.asscalar(a) is deprecated since NumPy v1.16, use a.item() instead\n",
      "  setattr(Constants, key.upper(), np.asscalar(val))\n",
      "/usr/local/anaconda3/lib/python3.8/site-packages/wrf/constants.py:19: DeprecationWarning: np.asscalar(a) is deprecated since NumPy v1.16, use a.item() instead\n",
      "  setattr(Constants, key.upper(), np.asscalar(val))\n",
      "/usr/local/anaconda3/lib/python3.8/site-packages/wrf/constants.py:19: DeprecationWarning: np.asscalar(a) is deprecated since NumPy v1.16, use a.item() instead\n",
      "  setattr(Constants, key.upper(), np.asscalar(val))\n",
      "/usr/local/anaconda3/lib/python3.8/site-packages/wrf/constants.py:19: DeprecationWarning: np.asscalar(a) is deprecated since NumPy v1.16, use a.item() instead\n",
      "  setattr(Constants, key.upper(), np.asscalar(val))\n",
      "/usr/local/anaconda3/lib/python3.8/site-packages/wrf/constants.py:19: DeprecationWarning: np.asscalar(a) is deprecated since NumPy v1.16, use a.item() instead\n",
      "  setattr(Constants, key.upper(), np.asscalar(val))\n",
      "/usr/local/anaconda3/lib/python3.8/site-packages/wrf/constants.py:19: DeprecationWarning: np.asscalar(a) is deprecated since NumPy v1.16, use a.item() instead\n",
      "  setattr(Constants, key.upper(), np.asscalar(val))\n",
      "/usr/local/anaconda3/lib/python3.8/site-packages/wrf/constants.py:19: DeprecationWarning: np.asscalar(a) is deprecated since NumPy v1.16, use a.item() instead\n",
      "  setattr(Constants, key.upper(), np.asscalar(val))\n",
      "/usr/local/anaconda3/lib/python3.8/site-packages/wrf/constants.py:19: DeprecationWarning: np.asscalar(a) is deprecated since NumPy v1.16, use a.item() instead\n",
      "  setattr(Constants, key.upper(), np.asscalar(val))\n",
      "/usr/local/anaconda3/lib/python3.8/site-packages/wrf/constants.py:19: DeprecationWarning: np.asscalar(a) is deprecated since NumPy v1.16, use a.item() instead\n",
      "  setattr(Constants, key.upper(), np.asscalar(val))\n",
      "/usr/local/anaconda3/lib/python3.8/site-packages/wrf/constants.py:19: DeprecationWarning: np.asscalar(a) is deprecated since NumPy v1.16, use a.item() instead\n",
      "  setattr(Constants, key.upper(), np.asscalar(val))\n",
      "/usr/local/anaconda3/lib/python3.8/site-packages/wrf/constants.py:19: DeprecationWarning: np.asscalar(a) is deprecated since NumPy v1.16, use a.item() instead\n",
      "  setattr(Constants, key.upper(), np.asscalar(val))\n",
      "/usr/local/anaconda3/lib/python3.8/site-packages/wrf/constants.py:19: DeprecationWarning: np.asscalar(a) is deprecated since NumPy v1.16, use a.item() instead\n",
      "  setattr(Constants, key.upper(), np.asscalar(val))\n",
      "/usr/local/anaconda3/lib/python3.8/site-packages/wrf/constants.py:19: DeprecationWarning: np.asscalar(a) is deprecated since NumPy v1.16, use a.item() instead\n",
      "  setattr(Constants, key.upper(), np.asscalar(val))\n",
      "/usr/local/anaconda3/lib/python3.8/site-packages/wrf/constants.py:19: DeprecationWarning: np.asscalar(a) is deprecated since NumPy v1.16, use a.item() instead\n",
      "  setattr(Constants, key.upper(), np.asscalar(val))\n",
      "/usr/local/anaconda3/lib/python3.8/site-packages/wrf/decorators.py:3: DeprecationWarning: Using or importing the ABCs from 'collections' instead of from 'collections.abc' is deprecated since Python 3.3, and in 3.9 it will stop working\n",
      "  from collections import Iterable, OrderedDict\n",
      "/usr/local/anaconda3/lib/python3.8/site-packages/wrf/util.py:6: DeprecationWarning: Using or importing the ABCs from 'collections' instead of from 'collections.abc' is deprecated since Python 3.3, and in 3.9 it will stop working\n",
      "  from collections import Iterable, Mapping, OrderedDict\n"
     ]
    }
   ],
   "source": [
    "import sys\n",
    "import numpy as np\n",
    "import math\n",
    "import pyart as pyart\n",
    "from netCDF4 import Dataset\n",
    "import pandas as pd\n",
    "import xarray as xr\n",
    "from datetime import datetime \n",
    "\n",
    "import matplotlib.pyplot as plt\n",
    "from matplotlib.cm import get_cmap\n",
    "from matplotlib.colors import from_levels_and_colors\n",
    "\n",
    "import cartopy.crs as crs\n",
    "from cartopy.feature import NaturalEarthFeature\n",
    "import cartopy.feature as cfeature\n",
    "import cartopy.io.shapereader as shpreader\n",
    "\n",
    "from wrf import (getvar, vinterp, interplevel, to_np, get_cartopy, latlon_coords, vertcross,\n",
    "                 cartopy_xlim, cartopy_ylim, interpline, CoordPair)\n"
   ]
  },
  {
   "cell_type": "code",
   "execution_count": 3,
   "metadata": {},
   "outputs": [
    {
     "name": "stderr",
     "output_type": "stream",
     "text": [
      "/usr/local/anaconda3/lib/python3.8/site-packages/ipykernel/ipkernel.py:287: DeprecationWarning: `should_run_async` will not call `transform_cell` automatically in the future. Please pass the result to `transformed_cell` argument and any exception that happen during thetransform in `preprocessing_exc_tuple` in IPython 7.17 and above.\n",
      "  and should_run_async(code)\n"
     ]
    }
   ],
   "source": [
    "grids = pyart.io.read_grid('./Grid_obj/grid_example.nc')"
   ]
  },
  {
   "cell_type": "code",
   "execution_count": 7,
   "metadata": {},
   "outputs": [
    {
     "name": "stdout",
     "output_type": "stream",
     "text": [
      "{'long_name': 'Time of grid', 'units': 'seconds since 2015-07-10T18:34:06Z', 'standard_name': 'time', 'calendar': 'gregorian', 'data': masked_array(data=[0.102],\n",
      "             mask=False,\n",
      "       fill_value=1e+20)}\n"
     ]
    },
    {
     "name": "stderr",
     "output_type": "stream",
     "text": [
      "/usr/local/anaconda3/lib/python3.8/site-packages/ipykernel/ipkernel.py:287: DeprecationWarning: `should_run_async` will not call `transform_cell` automatically in the future. Please pass the result to `transformed_cell` argument and any exception that happen during thetransform in `preprocessing_exc_tuple` in IPython 7.17 and above.\n",
      "  and should_run_async(code)\n"
     ]
    }
   ],
   "source": [
    "print(grids.time)"
   ]
  }
 ],
 "metadata": {
  "anaconda-cloud": {},
  "kernelspec": {
   "display_name": "Python 3",
   "language": "python",
   "name": "python3"
  },
  "language_info": {
   "codemirror_mode": {
    "name": "ipython",
    "version": 3
   },
   "file_extension": ".py",
   "mimetype": "text/x-python",
   "name": "python",
   "nbconvert_exporter": "python",
   "pygments_lexer": "ipython3",
   "version": "3.8.5"
  }
 },
 "nbformat": 4,
 "nbformat_minor": 1
}
