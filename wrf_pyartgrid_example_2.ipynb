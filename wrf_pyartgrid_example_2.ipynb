{
 "cells": [
  {
   "cell_type": "markdown",
   "metadata": {},
   "source": [
    "Convert reflectivity from WRF output to Pyart grid object."
   ]
  },
  {
   "cell_type": "code",
   "execution_count": 115,
   "metadata": {
    "scrolled": true
   },
   "outputs": [
    {
     "name": "stderr",
     "output_type": "stream",
     "text": [
      "/usr/local/anaconda3/lib/python3.8/site-packages/ipykernel/ipkernel.py:287: DeprecationWarning: `should_run_async` will not call `transform_cell` automatically in the future. Please pass the result to `transformed_cell` argument and any exception that happen during thetransform in `preprocessing_exc_tuple` in IPython 7.17 and above.\n",
      "  and should_run_async(code)\n"
     ]
    },
    {
     "name": "stdout",
     "output_type": "stream",
     "text": [
      "Once deleted, variables cannot be recovered. Proceed (y/[n])? y\n"
     ]
    }
   ],
   "source": [
    "%reset\n",
    "\n",
    "import sys\n",
    "import numpy as np\n",
    "import math\n",
    "import pyart as pyart\n",
    "from netCDF4 import Dataset\n",
    "import pandas as pd\n",
    "import xarray as xr\n",
    "from datetime import datetime \n",
    "\n",
    "import matplotlib.pyplot as plt\n",
    "from matplotlib.cm import get_cmap\n",
    "from matplotlib.colors import from_levels_and_colors\n",
    "\n",
    "import cartopy.crs as crs\n",
    "from cartopy.feature import NaturalEarthFeature\n",
    "import cartopy.feature as cfeature\n",
    "import cartopy.io.shapereader as shpreader\n",
    "\n",
    "from wrf import (getvar, ALL_TIMES, vinterp, interplevel, to_np, get_cartopy, latlon_coords, vertcross,\n",
    "                 cartopy_xlim, cartopy_ylim, interpline, CoordPair)\n"
   ]
  },
  {
   "cell_type": "code",
   "execution_count": 116,
   "metadata": {},
   "outputs": [
    {
     "name": "stderr",
     "output_type": "stream",
     "text": [
      "/usr/local/anaconda3/lib/python3.8/site-packages/ipykernel/ipkernel.py:287: DeprecationWarning: `should_run_async` will not call `transform_cell` automatically in the future. Please pass the result to `transformed_cell` argument and any exception that happen during thetransform in `preprocessing_exc_tuple` in IPython 7.17 and above.\n",
      "  and should_run_async(code)\n"
     ]
    }
   ],
   "source": [
    "# Get WRF output data:\n",
    "\n",
    "# filename_list = ['/home/krasmussen/scratch/DATA/PRECIP/June2017_meiyu/CTRL_fromJen_1km/wrfout_d01_2017-06-01_20:00:00'\n",
    "#                 ,'/home/krasmussen/scratch/DATA/PRECIP/June2017_meiyu/CTRL_fromJen_1km/wrfout_d01_2017-06-01_20:15:00'\n",
    "#                 ,'/home/krasmussen/scratch/DATA/PRECIP/June2017_meiyu/CTRL_fromJen_1km/wrfout_d01_2017-06-01_20:30:00'\n",
    "#                 ,'/home/krasmussen/scratch/DATA/PRECIP/June2017_meiyu/CTRL_fromJen_1km/wrfout_d01_2017-06-01_20:45:00'\n",
    "#                 ,'/home/krasmussen/scratch/DATA/PRECIP/June2017_meiyu/CTRL_fromJen_1km/wrfout_d01_2017-06-01_21:00:00'\n",
    "#                 ,'/home/krasmussen/scratch/DATA/PRECIP/June2017_meiyu/CTRL_fromJen_1km/wrfout_d01_2017-06-01_21:15:00'\n",
    "#                 ,'/home/krasmussen/scratch/DATA/PRECIP/June2017_meiyu/CTRL_fromJen_1km/wrfout_d01_2017-06-01_21:30:00'\n",
    "#                 ,'/home/krasmussen/scratch/DATA/PRECIP/June2017_meiyu/CTRL_fromJen_1km/wrfout_d01_2017-06-01_21:45:00'\n",
    "#                 ,'/home/krasmussen/scratch/DATA/PRECIP/June2017_meiyu/CTRL_fromJen_1km/wrfout_d01_2017-06-01_22:00:00'\n",
    "#                 ,'/home/krasmussen/scratch/DATA/PRECIP/June2017_meiyu/CTRL_fromJen_1km/wrfout_d01_2017-06-01_22:15:00'\n",
    "#                 ,'/home/krasmussen/scratch/DATA/PRECIP/June2017_meiyu/CTRL_fromJen_1km/wrfout_d01_2017-06-01_22:30:00'\n",
    "#                 ,'/home/krasmussen/scratch/DATA/PRECIP/June2017_meiyu/CTRL_fromJen_1km/wrfout_d01_2017-06-01_22:45:00'\n",
    "#                 ,'/home/krasmussen/scratch/DATA/PRECIP/June2017_meiyu/CTRL_fromJen_1km/wrfout_d01_2017-06-01_23:00:00'\n",
    "#                 ,'/home/krasmussen/scratch/DATA/PRECIP/June2017_meiyu/CTRL_fromJen_1km/wrfout_d01_2017-06-01_23:15:00'\n",
    "#                 ,'/home/krasmussen/scratch/DATA/PRECIP/June2017_meiyu/CTRL_fromJen_1km/wrfout_d01_2017-06-01_23:30:00'\n",
    "#                 ,'/home/krasmussen/scratch/DATA/PRECIP/June2017_meiyu/CTRL_fromJen_1km/wrfout_d01_2017-06-01_23:45:00'\n",
    "#                 ]\n",
    "\n",
    "filename_list = ['/rasmussen-scratch/krasmussen/WRF/RELAMPAGO_terrainMod/CTRL/wrfout_d03_2018-12-14_00:00:00'\n",
    "                ,'/rasmussen-scratch/krasmussen/WRF/RELAMPAGO_terrainMod/CTRL/wrfout_d03_2018-12-14_01:00:00'\n",
    "                ,'/rasmussen-scratch/krasmussen/WRF/RELAMPAGO_terrainMod/CTRL/wrfout_d03_2018-12-14_02:00:00'\n",
    "                ,'/rasmussen-scratch/krasmussen/WRF/RELAMPAGO_terrainMod/CTRL/wrfout_d03_2018-12-14_03:00:00'\n",
    "                ,'/rasmussen-scratch/krasmussen/WRF/RELAMPAGO_terrainMod/CTRL/wrfout_d03_2018-12-14_04:00:00'\n",
    "                ,'/rasmussen-scratch/krasmussen/WRF/RELAMPAGO_terrainMod/CTRL/wrfout_d03_2018-12-14_05:00:00'\n",
    "                ,'/rasmussen-scratch/krasmussen/WRF/RELAMPAGO_terrainMod/CTRL/wrfout_d03_2018-12-14_06:00:00'\n",
    "                ]\n"
   ]
  },
  {
   "cell_type": "code",
   "execution_count": 117,
   "metadata": {},
   "outputs": [
    {
     "name": "stderr",
     "output_type": "stream",
     "text": [
      "/usr/local/anaconda3/lib/python3.8/site-packages/ipykernel/ipkernel.py:287: DeprecationWarning: `should_run_async` will not call `transform_cell` automatically in the future. Please pass the result to `transformed_cell` argument and any exception that happen during thetransform in `preprocessing_exc_tuple` in IPython 7.17 and above.\n",
      "  and should_run_async(code)\n"
     ]
    }
   ],
   "source": [
    "def distance(origin, destination):\n",
    "    \"\"\"\n",
    "    Calculate the Haversine distance.\n",
    "\n",
    "    Parameters\n",
    "    ----------\n",
    "    origin : tuple of float\n",
    "        (lat, long)\n",
    "    destination : tuple of float\n",
    "        (lat, long)\n",
    "\n",
    "    Returns\n",
    "    -------\n",
    "    distance_in_km : float\n",
    "\n",
    "    Examples\n",
    "    --------\n",
    "    >>> origin = (48.1372, 11.5756)  # Munich\n",
    "    >>> destination = (52.5186, 13.4083)  # Berlin\n",
    "    >>> round(distance(origin, destination), 1)\n",
    "    504.2\n",
    "    \"\"\"\n",
    "    lat1, lon1 = origin\n",
    "    lat2, lon2 = destination\n",
    "    radius = 6371  # km\n",
    "\n",
    "    dlat = math.radians(lat2 - lat1)\n",
    "    dlon = math.radians(lon2 - lon1)\n",
    "    a = (math.sin(dlat / 2) * math.sin(dlat / 2) +\n",
    "         math.cos(math.radians(lat1)) * math.cos(math.radians(lat2)) *\n",
    "         math.sin(dlon / 2) * math.sin(dlon / 2))\n",
    "    c = 2 * math.atan2(math.sqrt(a), math.sqrt(1 - a))\n",
    "    d = radius * c\n",
    "\n",
    "    return d"
   ]
  },
  {
   "cell_type": "code",
   "execution_count": 118,
   "metadata": {},
   "outputs": [
    {
     "name": "stderr",
     "output_type": "stream",
     "text": [
      "/usr/local/anaconda3/lib/python3.8/site-packages/ipykernel/ipkernel.py:287: DeprecationWarning: `should_run_async` will not call `transform_cell` automatically in the future. Please pass the result to `transformed_cell` argument and any exception that happen during thetransform in `preprocessing_exc_tuple` in IPython 7.17 and above.\n",
      "  and should_run_async(code)\n"
     ]
    }
   ],
   "source": [
    "def get_wrf_file(filename):\n",
    "\n",
    "    # Get variable (reflectivity) from wrf output:\n",
    "    wrf_file = Dataset(filename)\n",
    "    # output_grid_obj_num = '%03d' % file_num\n",
    "\n",
    "    return wrf_file\n"
   ]
  },
  {
   "cell_type": "code",
   "execution_count": 119,
   "metadata": {},
   "outputs": [
    {
     "name": "stderr",
     "output_type": "stream",
     "text": [
      "/usr/local/anaconda3/lib/python3.8/site-packages/ipykernel/ipkernel.py:287: DeprecationWarning: `should_run_async` will not call `transform_cell` automatically in the future. Please pass the result to `transformed_cell` argument and any exception that happen during thetransform in `preprocessing_exc_tuple` in IPython 7.17 and above.\n",
      "  and should_run_async(code)\n"
     ]
    }
   ],
   "source": [
    "def get_wrf_var(wrf_file, time_index):\n",
    "\n",
    "    # wrf_var = getvar(wrf_file, 'REFL_10CM', timeidx=ALL_TIMES)\n",
    "    wrf_var = getvar(wrf_file, 'REFL_10CM', timeidx=time_index)\n",
    "    \n",
    "    return wrf_var\n"
   ]
  },
  {
   "cell_type": "code",
   "execution_count": 120,
   "metadata": {},
   "outputs": [
    {
     "name": "stderr",
     "output_type": "stream",
     "text": [
      "/usr/local/anaconda3/lib/python3.8/site-packages/ipykernel/ipkernel.py:287: DeprecationWarning: `should_run_async` will not call `transform_cell` automatically in the future. Please pass the result to `transformed_cell` argument and any exception that happen during thetransform in `preprocessing_exc_tuple` in IPython 7.17 and above.\n",
      "  and should_run_async(code)\n"
     ]
    }
   ],
   "source": [
    "def interpolate_wrf_refl(wrf_file, wrf_var):\n",
    "\n",
    "    # Interpolate reflectivity to pressure levels:\n",
    "    # interp_levels = [850]\n",
    "    # interp_field = vinterp(wrf_file,\n",
    "    #                        field=wrf_dbz,\n",
    "    #                        vert_coord='p',\n",
    "    #                        interp_levels=interp_levels,\n",
    "    #                        extrapolate=True,\n",
    "    #                        field_type='none',\n",
    "    #                        log_p=True)\n",
    "\n",
    "    # Interpolate reflectivity to hieghts:\n",
    "    interp_levels = np.linspace(0,15,31)\n",
    "    # print(interp_levels)\n",
    "    interp_field = vinterp(wrf_file,\n",
    "                           field=wrf_var,\n",
    "                           vert_coord='ght_msl',\n",
    "                           interp_levels=interp_levels,\n",
    "                           extrapolate=True,\n",
    "                           field_type='none'\n",
    "                          )\n",
    "    \n",
    "    return interp_levels, interp_field\n",
    "\n",
    "# interp_levels = interpolate_wrf_refl(wrf_file, wrf_var)[0]\n",
    "# interp_field = interpolate_wrf_refl(wrf_file, wrf_var)[1]"
   ]
  },
  {
   "cell_type": "code",
   "execution_count": 121,
   "metadata": {},
   "outputs": [
    {
     "name": "stderr",
     "output_type": "stream",
     "text": [
      "/usr/local/anaconda3/lib/python3.8/site-packages/ipykernel/ipkernel.py:287: DeprecationWarning: `should_run_async` will not call `transform_cell` automatically in the future. Please pass the result to `transformed_cell` argument and any exception that happen during thetransform in `preprocessing_exc_tuple` in IPython 7.17 and above.\n",
      "  and should_run_async(code)\n"
     ]
    }
   ],
   "source": [
    "def convert_to_pyart_grid(interp_levels, interp_field, output_file_num):\n",
    "\n",
    "    # Convert to Pyart grid object:\n",
    "\n",
    "    fields = {}\n",
    "    fields['reflectivity'] = {'data': interp_field.values, '_FillValue': -9999.0}\n",
    "    # print(fields['reflectivity'])\n",
    "\n",
    "    time = pyart.config.get_metadata('grid_time')\n",
    "    time['data'] = [0.0]\n",
    "    time['units'] = 'seconds since ' + interp_field['Time'].dt.strftime('%Y-%m-%dT%H:%M:%SZ')\n",
    "    # print(time)\n",
    "\n",
    "    # grid origin location dictionaries\n",
    "    origin_latitude = pyart.config.get_metadata('origin_latitude')\n",
    "    # origin_latitude['data'] = interp_field_2d['XLAT'].values.min()\n",
    "    origin_latitude['data'] = [interp_field['XLAT'].values[0,0]]\n",
    "\n",
    "    origin_longitude = pyart.config.get_metadata('origin_longitude')\n",
    "    # origin_longitude['data'] = interp_field_2d['XLONG'].values.min()\n",
    "    origin_longitude['data'] = [interp_field['XLONG'].values[0,0]]\n",
    "\n",
    "    origin_altitude = pyart.config.get_metadata('origin_altitude')\n",
    "    # origin_altitude['data'] = [interp_levels]\n",
    "    # origin_altitude['units'] = 'hPa'\n",
    "    origin_altitude['data'] = [0.0]\n",
    "    origin_altitude['units'] = 'm'\n",
    "\n",
    "    x = pyart.config.get_metadata('x')\n",
    "    y = pyart.config.get_metadata('y')\n",
    "    z = pyart.config.get_metadata('z')\n",
    "\n",
    "    tmp_x = []\n",
    "    for lon in interp_field['XLONG'].values[0,:]:\n",
    "        tmp_x.append(distance([interp_field['XLAT'].values[0,0],interp_field['XLONG'].values[0,0]],[interp_field['XLAT'].values[0,0],lon]))\n",
    "\n",
    "    x['data'] = np.array(tmp_x) * 1000\n",
    "\n",
    "    tmp_y = []\n",
    "    for lat in interp_field['XLAT'].values[:,0]:\n",
    "        tmp_y.append(distance([interp_field['XLAT'].values[0,0],interp_field['XLONG'].values[0,0]],[lat,interp_field['XLONG'].values[0,0]]))\n",
    "\n",
    "    y['data'] = np.array(tmp_y) * 1000\n",
    "\n",
    "    z['data'] = interp_levels * 1000\n",
    "    z['units'] = 'm'\n",
    "\n",
    "    # print(x)\n",
    "    # print(z)\n",
    "\n",
    "    # Write in metadata dictionary\n",
    "\n",
    "    metadata={}\n",
    "    metadata['original_container'] = 'RadialSet'\n",
    "    metadata['site_name'] = 'N/A'\n",
    "    metadata['radar_name'] = 'WRF-Output'\n",
    "\n",
    "    # create radar dictionaries\n",
    "    radar_latitude = pyart.config.get_metadata('radar_latitude')\n",
    "    radar_latitude['data'] = [origin_latitude['data']]\n",
    "\n",
    "    # print(radar_latitude['data'])\n",
    "    # print(type(radar_latitude['data']))\n",
    "\n",
    "    radar_longitude = pyart.config.get_metadata('radar_longitude')\n",
    "    radar_longitude['data'] = [origin_longitude['data']]\n",
    "\n",
    "    radar_altitude = pyart.config.get_metadata('radar_altitude')\n",
    "    radar_altitude['data'] = [0.0]\n",
    "\n",
    "    radar_time = pyart.config.get_metadata('radar_time')\n",
    "    radar_time['data'] = np.array([0])\n",
    "    radar_time['units'] = 'seconds since ' + interp_field['Time'].dt.strftime('%Y-%m-%dT%H:%M:%SZ')\n",
    "\n",
    "    radar_name = pyart.config.get_metadata('radar_name')\n",
    "    radar_name['data'] = np.array(['WRF-Output'])\n",
    "\n",
    "    # projection = kwargs.pop('grid_projection', None)\n",
    "\n",
    "\n",
    "    # Make and Write out to Pyart grid object:\n",
    "    output_grid_obj_num = '%03d' % output_file_num\n",
    "    output_filename = './Grid_obj/grid_' + output_grid_obj_num + '.nc'\n",
    "\n",
    "    # print(fields)\n",
    "    # print(fields['reflectivity'])\n",
    "\n",
    "    pyart_grid_file = pyart.core.Grid(time, fields, metadata,\n",
    "                                      origin_latitude, origin_longitude, origin_altitude, x, y, z,\n",
    "                                      radar_latitude=radar_latitude, radar_longitude=radar_longitude,\n",
    "                                      radar_altitude=radar_altitude, radar_name=radar_name,\n",
    "                                      radar_time=radar_time, projection=None\n",
    "                                     )\n",
    "                                    #.write(filename=output_filename)\n",
    "\n",
    "    # pyart_grid_file.write(filename=output_filename)\n",
    "    # pyart_grid_file.write(filename=output_filename, format='NETCDF4')\n",
    "\n",
    "    pyart.io.write_grid(output_filename, pyart_grid_file)\n",
    "    \n",
    "# convert_to_pyart_grid(interp_levels, interp_field, 0)"
   ]
  },
  {
   "cell_type": "code",
   "execution_count": 122,
   "metadata": {},
   "outputs": [
    {
     "name": "stderr",
     "output_type": "stream",
     "text": [
      "/usr/local/anaconda3/lib/python3.8/site-packages/ipykernel/ipkernel.py:287: DeprecationWarning: `should_run_async` will not call `transform_cell` automatically in the future. Please pass the result to `transformed_cell` argument and any exception that happen during thetransform in `preprocessing_exc_tuple` in IPython 7.17 and above.\n",
      "  and should_run_async(code)\n"
     ]
    },
    {
     "name": "stdout",
     "output_type": "stream",
     "text": [
      "/rasmussen-scratch/krasmussen/WRF/RELAMPAGO_terrainMod/CTRL/wrfout_d03_2018-12-14_00:00:00\n",
      "0\n",
      "1\n",
      "2\n",
      "3\n",
      "4\n",
      "5\n",
      "/rasmussen-scratch/krasmussen/WRF/RELAMPAGO_terrainMod/CTRL/wrfout_d03_2018-12-14_01:00:00\n",
      "0\n",
      "1\n",
      "2\n",
      "3\n",
      "4\n",
      "5\n",
      "/rasmussen-scratch/krasmussen/WRF/RELAMPAGO_terrainMod/CTRL/wrfout_d03_2018-12-14_02:00:00\n",
      "0\n",
      "1\n",
      "2\n",
      "3\n",
      "4\n",
      "5\n",
      "/rasmussen-scratch/krasmussen/WRF/RELAMPAGO_terrainMod/CTRL/wrfout_d03_2018-12-14_03:00:00\n",
      "0\n",
      "1\n",
      "2\n",
      "3\n",
      "4\n",
      "5\n",
      "/rasmussen-scratch/krasmussen/WRF/RELAMPAGO_terrainMod/CTRL/wrfout_d03_2018-12-14_04:00:00\n",
      "0\n",
      "1\n",
      "2\n",
      "3\n",
      "4\n",
      "5\n",
      "/rasmussen-scratch/krasmussen/WRF/RELAMPAGO_terrainMod/CTRL/wrfout_d03_2018-12-14_05:00:00\n",
      "0\n",
      "1\n",
      "2\n",
      "3\n",
      "4\n",
      "5\n",
      "/rasmussen-scratch/krasmussen/WRF/RELAMPAGO_terrainMod/CTRL/wrfout_d03_2018-12-14_06:00:00\n",
      "0\n",
      "1\n",
      "2\n",
      "3\n",
      "4\n",
      "5\n"
     ]
    }
   ],
   "source": [
    "# MAIN PROCESS:\n",
    "\n",
    "gridobj_i = 0\n",
    "\n",
    "for file_name in filename_list:\n",
    "    \n",
    "    print(file_name)\n",
    "    \n",
    "    wrf_file = get_wrf_file(file_name)\n",
    "    \n",
    "    time_index = 0\n",
    "    \n",
    "    while time_index < 6:\n",
    "\n",
    "        print(time_index)\n",
    "        \n",
    "        wrf_var = get_wrf_var(wrf_file, time_index)\n",
    "        \n",
    "        time_index = time_index + 1\n",
    "        \n",
    "        interp_levels = interpolate_wrf_refl(wrf_file, wrf_var)[0]\n",
    "        interp_field = interpolate_wrf_refl(wrf_file, wrf_var)[1]\n",
    "        \n",
    "        convert_to_pyart_grid(interp_levels, interp_field, gridobj_i)\n",
    "        \n",
    "        gridobj_i = gridobj_i + 1\n",
    "        "
   ]
  },
  {
   "cell_type": "code",
   "execution_count": 82,
   "metadata": {},
   "outputs": [
    {
     "name": "stdout",
     "output_type": "stream",
     "text": [
      "2018-12-14T00:10:00\n"
     ]
    },
    {
     "name": "stderr",
     "output_type": "stream",
     "text": [
      "/usr/local/anaconda3/lib/python3.8/site-packages/ipykernel/ipkernel.py:287: DeprecationWarning: `should_run_async` will not call `transform_cell` automatically in the future. Please pass the result to `transformed_cell` argument and any exception that happen during thetransform in `preprocessing_exc_tuple` in IPython 7.17 and above.\n",
      "  and should_run_async(code)\n"
     ]
    }
   ],
   "source": [
    "# Get model output time:\n",
    "# wrf_valid_datetime = interp_field['Time'].dt.strftime('%Y-%m-%d %H:%M:%S')\n",
    "# wrf_valid_datetime = interp_field['Time']\n",
    "# print(str(wrf_valid_datetime.values)[:-10])\n",
    "# print(wrf_valid_datetime.dt.strftime('%Y-%m-%d %H:%M:%S'))\n",
    "\n",
    "# Reshaping data:\n",
    "# interp_field = interp_field.squeeze('interp_level')\n",
    "# interp_field_3d = interp_field.squeeze('interp_level')"
   ]
  },
  {
   "cell_type": "code",
   "execution_count": 20,
   "metadata": {},
   "outputs": [
    {
     "name": "stderr",
     "output_type": "stream",
     "text": [
      "/usr/local/anaconda3/lib/python3.8/site-packages/ipykernel/ipkernel.py:287: DeprecationWarning: `should_run_async` will not call `transform_cell` automatically in the future. Please pass the result to `transformed_cell` argument and any exception that happen during thetransform in `preprocessing_exc_tuple` in IPython 7.17 and above.\n",
      "  and should_run_async(code)\n"
     ]
    }
   ],
   "source": [
    "# # Test plot:\n",
    "\n",
    "# # print(interp_field.sizes)\n",
    "# # interp_field.plot()\n",
    "\n",
    "# # Get the lat/lon coordinates\n",
    "# lats, lons = latlon_coords(interp_field)\n",
    "# # print(lats,lons)\n",
    "\n",
    "# # Get the cartopy projection object\n",
    "# dat_crs_proj = get_cartopy(interp_field)\n",
    "\n",
    "# # fig_crs = crs.LambertConformal(central_longitude=120.9, central_latitude=23.5)\n",
    "# fig_crs = dat_crs_proj\n",
    "# dat_crs = crs.PlateCarree()\n",
    "\n",
    "# # Create the figure\n",
    "# fig = plt.figure(figsize=(12,12))\n",
    "# ax1 = plt.axes(projection=fig_crs)\n",
    "\n",
    "# # ax1.set_extent([118,124,21,26.5])\n",
    "# ax1.coastlines()\n",
    "\n",
    "# # plt.rcParams['font.size'] = '18'\n",
    "\n",
    "# # Create the color table found on NWS pages.\n",
    "\n",
    "# # dbz_levels = np.arange(5., 75., 5.)\n",
    "# # dbz_rgb = np.array([[4,233,231],\n",
    "# #                     [1,159,244], [3,0,244],\n",
    "# #                     [2,253,2], [1,197,1],\n",
    "# #                     [0,142,0], [253,248,2],\n",
    "# #                     [229,188,0], [253,149,0],\n",
    "# #                     [253,0,0], [212,0,0],\n",
    "# #                     [188,0,0],[248,0,253],\n",
    "# #                     [152,84,198]], np.float32) / 255.0\n",
    "# # dbz_map, dbz_norm = from_levels_and_colors(dbz_levels, dbz_rgb, extend=\"max\")\n",
    "\n",
    "# clevs = [-5,0,5,10,15,20,25,30,35,40,45,50,55,60,65,70,75,85]\n",
    "# ccols = ['#ffffff','#98ffff','#009aff','#1919ff','#19ff19','#19cd19','#19A019','#fefe08','#ffcb00','#ff9c00','#fe0005','#c90200','#9d0000','#9a009d','#cf00d7','#ff00f7','#fdcafe']\n",
    "# dbz_map, dbz_norm = from_levels_and_colors(clevs, ccols)\n",
    "\n",
    "# # Make the plot:\n",
    "\n",
    "# # dbz_contours = ax.contourf(interp_field_2d.coords['XLONG'],\n",
    "# #                            interp_field_2d.coords['XLAT'],\n",
    "# #                            to_np(interp_field_2d),\n",
    "# #                            levels=dbz_levels,\n",
    "# #                            cmap=dbz_map,\n",
    "# #                            norm=dbz_norm,\n",
    "# #                            extend=\"max\")\n",
    "\n",
    "# # f1_dbz_pcolors = ax1.pcolormesh(interp_field_2d.coords['XLONG'],\n",
    "# #                                 interp_field_2d.coords['XLAT'],\n",
    "# #                                 to_np(interp_field_2d),\n",
    "# #                                 cmap=dbz_map,\n",
    "# #                                 norm=dbz_norm,\n",
    "# #                                 transform=dat_crs_proj)\n",
    "\n",
    "# plot_level = 0\n",
    "\n",
    "# f1_dbz_pcolors = ax1.pcolormesh(interp_field.coords['XLONG'],\n",
    "#                                 interp_field.coords['XLAT'],\n",
    "#                                 to_np(interp_field[plot_level,:,:]),\n",
    "#                                 cmap=dbz_map,\n",
    "#                                 norm=dbz_norm,\n",
    "#                                 transform=dat_crs)\n",
    "\n",
    "# # Add Tiawan counties:\n",
    "# shp_3 = cfeature.ShapelyFeature(shpreader.Reader('./TWN_shp/TWN_CITY').geometries(), crs.PlateCarree())\n",
    "# ax1.add_feature(shp_3, facecolor='none', edgecolor='black', linewidth=1.2)\n",
    "\n",
    "# # Add the color bar\n",
    "# # cb_dbz = fig.colorbar(f1_dbz_pcolors, ax=ax1, fraction=0.04)\n",
    "# cb_dbz = fig.colorbar(f1_dbz_pcolors, ticks=clevs[1:17], fraction=0.04)\n",
    "# cb_dbz.ax.tick_params(labelsize=14)\n",
    "\n",
    "# # Set axes:\n",
    "# fig_tit = ax1.set_title('Reflectivity (dBZ) ' + str(interp_levels[plot_level]) + 'km ' + wrf_valid_datetime.values, fontsize=24)\n",
    "# # ax1.set_xlabel('Lon', fontsize=18)\n",
    "# # ax1.set_ylabel('Lat', fontsize=18)\n",
    "# # ax1.labelsize = 18\n",
    "\n",
    "# ax1_gl = ax1.gridlines(draw_labels=True)\n",
    "# ax1_gl.xlabels_top = False\n",
    "# ax1_gl.ylabels_right = False\n",
    "\n",
    "# # Save figure:\n",
    "# # fig_name = './wrfoutdbz_' + str(interp_levels) + '_' + interp_field['Time'].dt.strftime('%Y-%m-%d_%H:%M:%S').values\n",
    "# # plt.savefig(fig_name, transparent=False, edgecolor='white', bbox_inches=\"tight\", dpi=300)"
   ]
  }
 ],
 "metadata": {
  "anaconda-cloud": {},
  "kernelspec": {
   "display_name": "Python 3",
   "language": "python",
   "name": "python3"
  },
  "language_info": {
   "codemirror_mode": {
    "name": "ipython",
    "version": 3
   },
   "file_extension": ".py",
   "mimetype": "text/x-python",
   "name": "python",
   "nbconvert_exporter": "python",
   "pygments_lexer": "ipython3",
   "version": "3.8.5"
  }
 },
 "nbformat": 4,
 "nbformat_minor": 4
}
