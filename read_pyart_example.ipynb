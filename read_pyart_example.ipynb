{
 "cells": [
  {
   "cell_type": "code",
   "execution_count": 1,
   "metadata": {},
   "outputs": [
    {
     "name": "stdin",
     "output_type": "stream",
     "text": [
      "Once deleted, variables cannot be recovered. Proceed (y/[n])?  y\n"
     ]
    }
   ],
   "source": [
    "%reset"
   ]
  },
  {
   "cell_type": "markdown",
   "metadata": {},
   "source": [
    "Read example Pyart grid object for test."
   ]
  },
  {
   "cell_type": "code",
   "execution_count": 3,
   "metadata": {},
   "outputs": [
    {
     "name": "stderr",
     "output_type": "stream",
     "text": [
      "/usr/local/anaconda3/lib/python3.8/site-packages/ipykernel/ipkernel.py:287: DeprecationWarning: `should_run_async` will not call `transform_cell` automatically in the future. Please pass the result to `transformed_cell` argument and any exception that happen during thetransform in `preprocessing_exc_tuple` in IPython 7.17 and above.\n",
      "  and should_run_async(code)\n"
     ]
    }
   ],
   "source": [
    "import sys\n",
    "import numpy as np\n",
    "import math\n",
    "import pyart as pyart\n",
    "from netCDF4 import Dataset\n",
    "import pandas as pd\n",
    "import xarray as xr\n",
    "from datetime import datetime \n",
    "\n",
    "import matplotlib.pyplot as plt\n",
    "from matplotlib.cm import get_cmap\n",
    "from matplotlib.colors import from_levels_and_colors\n",
    "\n",
    "import cartopy.crs as crs\n",
    "from cartopy.feature import NaturalEarthFeature\n",
    "import cartopy.feature as cfeature\n",
    "import cartopy.io.shapereader as shpreader\n",
    "\n",
    "from wrf import (getvar, vinterp, interplevel, to_np, get_cartopy, latlon_coords, vertcross,\n",
    "                 cartopy_xlim, cartopy_ylim, interpline, CoordPair)\n"
   ]
  },
  {
   "cell_type": "code",
   "execution_count": 5,
   "metadata": {},
   "outputs": [
    {
     "name": "stderr",
     "output_type": "stream",
     "text": [
      "/usr/local/anaconda3/lib/python3.8/site-packages/ipykernel/ipkernel.py:287: DeprecationWarning: `should_run_async` will not call `transform_cell` automatically in the future. Please pass the result to `transformed_cell` argument and any exception that happen during thetransform in `preprocessing_exc_tuple` in IPython 7.17 and above.\n",
      "  and should_run_async(code)\n"
     ]
    }
   ],
   "source": [
    "grids = pyart.io.read_grid('./Grid_obj/grid_example.nc')"
   ]
  },
  {
   "cell_type": "code",
   "execution_count": 14,
   "metadata": {},
   "outputs": [
    {
     "name": "stdout",
     "output_type": "stream",
     "text": [
      "{'_FillValue': -9999.0, 'long_name': 'Reflectivity', 'units': 'dBZ', 'standard_name': 'equivalent_reflectivity_factor', 'valid_max': 94.5, 'valid_min': -32.0, 'coordinates': 'elevation azimuth range', 'data': masked_array(\n",
      "  data=[[[--, --, --, ..., --, --, --],\n",
      "         [--, --, --, ..., --, --, --],\n",
      "         [--, --, --, ..., --, --, --],\n",
      "         ...,\n",
      "         [--, --, --, ..., --, --, --],\n",
      "         [--, --, --, ..., --, --, --],\n",
      "         [--, --, --, ..., --, --, --]],\n",
      "\n",
      "        [[--, --, --, ..., --, --, --],\n",
      "         [--, --, --, ..., --, --, --],\n",
      "         [--, --, --, ..., --, --, --],\n",
      "         ...,\n",
      "         [--, --, --, ..., --, --, --],\n",
      "         [--, --, --, ..., --, --, --],\n",
      "         [--, --, --, ..., --, --, --]],\n",
      "\n",
      "        [[--, --, --, ..., --, --, --],\n",
      "         [--, --, --, ..., --, --, --],\n",
      "         [--, --, --, ..., --, --, --],\n",
      "         ...,\n",
      "         [--, --, --, ..., --, --, --],\n",
      "         [--, --, --, ..., --, --, --],\n",
      "         [--, --, --, ..., --, --, --]],\n",
      "\n",
      "        ...,\n",
      "\n",
      "        [[--, --, --, ..., --, --, --],\n",
      "         [--, --, --, ..., --, --, --],\n",
      "         [--, --, --, ..., --, --, --],\n",
      "         ...,\n",
      "         [--, --, --, ..., --, --, --],\n",
      "         [--, --, --, ..., --, --, --],\n",
      "         [--, --, --, ..., --, --, --]],\n",
      "\n",
      "        [[--, --, --, ..., --, --, --],\n",
      "         [--, --, --, ..., --, --, --],\n",
      "         [--, --, --, ..., --, --, --],\n",
      "         ...,\n",
      "         [--, --, --, ..., --, --, --],\n",
      "         [--, --, --, ..., --, --, --],\n",
      "         [--, --, --, ..., --, --, --]],\n",
      "\n",
      "        [[--, --, --, ..., --, --, --],\n",
      "         [--, --, --, ..., --, --, --],\n",
      "         [--, --, --, ..., --, --, --],\n",
      "         ...,\n",
      "         [--, --, --, ..., --, --, --],\n",
      "         [--, --, --, ..., --, --, --],\n",
      "         [--, --, --, ..., --, --, --]]],\n",
      "  mask=[[[ True,  True,  True, ...,  True,  True,  True],\n",
      "         [ True,  True,  True, ...,  True,  True,  True],\n",
      "         [ True,  True,  True, ...,  True,  True,  True],\n",
      "         ...,\n",
      "         [ True,  True,  True, ...,  True,  True,  True],\n",
      "         [ True,  True,  True, ...,  True,  True,  True],\n",
      "         [ True,  True,  True, ...,  True,  True,  True]],\n",
      "\n",
      "        [[ True,  True,  True, ...,  True,  True,  True],\n",
      "         [ True,  True,  True, ...,  True,  True,  True],\n",
      "         [ True,  True,  True, ...,  True,  True,  True],\n",
      "         ...,\n",
      "         [ True,  True,  True, ...,  True,  True,  True],\n",
      "         [ True,  True,  True, ...,  True,  True,  True],\n",
      "         [ True,  True,  True, ...,  True,  True,  True]],\n",
      "\n",
      "        [[ True,  True,  True, ...,  True,  True,  True],\n",
      "         [ True,  True,  True, ...,  True,  True,  True],\n",
      "         [ True,  True,  True, ...,  True,  True,  True],\n",
      "         ...,\n",
      "         [ True,  True,  True, ...,  True,  True,  True],\n",
      "         [ True,  True,  True, ...,  True,  True,  True],\n",
      "         [ True,  True,  True, ...,  True,  True,  True]],\n",
      "\n",
      "        ...,\n",
      "\n",
      "        [[ True,  True,  True, ...,  True,  True,  True],\n",
      "         [ True,  True,  True, ...,  True,  True,  True],\n",
      "         [ True,  True,  True, ...,  True,  True,  True],\n",
      "         ...,\n",
      "         [ True,  True,  True, ...,  True,  True,  True],\n",
      "         [ True,  True,  True, ...,  True,  True,  True],\n",
      "         [ True,  True,  True, ...,  True,  True,  True]],\n",
      "\n",
      "        [[ True,  True,  True, ...,  True,  True,  True],\n",
      "         [ True,  True,  True, ...,  True,  True,  True],\n",
      "         [ True,  True,  True, ...,  True,  True,  True],\n",
      "         ...,\n",
      "         [ True,  True,  True, ...,  True,  True,  True],\n",
      "         [ True,  True,  True, ...,  True,  True,  True],\n",
      "         [ True,  True,  True, ...,  True,  True,  True]],\n",
      "\n",
      "        [[ True,  True,  True, ...,  True,  True,  True],\n",
      "         [ True,  True,  True, ...,  True,  True,  True],\n",
      "         [ True,  True,  True, ...,  True,  True,  True],\n",
      "         ...,\n",
      "         [ True,  True,  True, ...,  True,  True,  True],\n",
      "         [ True,  True,  True, ...,  True,  True,  True],\n",
      "         [ True,  True,  True, ...,  True,  True,  True]]],\n",
      "  fill_value=-9999.0,\n",
      "  dtype=float32)}\n"
     ]
    },
    {
     "name": "stderr",
     "output_type": "stream",
     "text": [
      "/usr/local/anaconda3/lib/python3.8/site-packages/ipykernel/ipkernel.py:287: DeprecationWarning: `should_run_async` will not call `transform_cell` automatically in the future. Please pass the result to `transformed_cell` argument and any exception that happen during thetransform in `preprocessing_exc_tuple` in IPython 7.17 and above.\n",
      "  and should_run_async(code)\n"
     ]
    }
   ],
   "source": [
    "print(grids.fields['reflectivity'])"
   ]
  }
 ],
 "metadata": {
  "anaconda-cloud": {},
  "kernelspec": {
   "display_name": "PyART_env",
   "language": "python",
   "name": "pyart_env"
  },
  "language_info": {
   "codemirror_mode": {
    "name": "ipython",
    "version": 3
   },
   "file_extension": ".py",
   "mimetype": "text/x-python",
   "name": "python",
   "nbconvert_exporter": "python",
   "pygments_lexer": "ipython3",
   "version": "3.9.4"
  }
 },
 "nbformat": 4,
 "nbformat_minor": 4
}
